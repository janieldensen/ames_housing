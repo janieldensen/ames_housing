{
 "cells": [
  {
   "cell_type": "markdown",
   "id": "fc61f8eb-eacf-43be-bdf4-d7dbd911eead",
   "metadata": {},
   "source": [
    "# Project 2\n",
    "## Model Building with Ames Iowa Housing Data\n",
    "The goal is to construct the best model possible for predicting the price of homes in Ames Iowa."
   ]
  },
  {
   "cell_type": "code",
   "execution_count": 1,
   "id": "a2a064e9-792e-4f8c-b721-bad1f34366a3",
   "metadata": {},
   "outputs": [],
   "source": [
    "import numpy as np\n",
    "import pandas as pd\n",
    "import matplotlib.pyplot as plt\n",
    "import seaborn as sns\n",
    "\n",
    "from sklearn.linear_model import LinearRegression, Ridge\n",
    "from sklearn.model_selection import train_test_split, cross_val_score\n",
    "from sklearn.preprocessing import OneHotEncoder, PolynomialFeatures\n",
    "from sklearn.compose import ColumnTransformer\n",
    "from sklearn.pipeline import Pipeline"
   ]
  },
  {
   "cell_type": "code",
   "execution_count": 2,
   "id": "cfde76f7-faa2-4a98-b035-1f95d4cae0fa",
   "metadata": {},
   "outputs": [],
   "source": [
    "# read in data\n",
    "train = pd.read_csv('../datasets/train.csv')\n",
    "test = pd.read_csv('../datasets/test.csv')"
   ]
  },
  {
   "cell_type": "markdown",
   "id": "ca07e3f0-9616-4293-8d69-bccff861f93e",
   "metadata": {},
   "source": [
    "### EDA and Cleaning"
   ]
  },
  {
   "cell_type": "code",
   "execution_count": 3,
   "id": "149060fc-eba3-4947-84b3-f29ac44044f2",
   "metadata": {
    "tags": []
   },
   "outputs": [
    {
     "data": {
      "text/html": [
       "<div>\n",
       "<style scoped>\n",
       "    .dataframe tbody tr th:only-of-type {\n",
       "        vertical-align: middle;\n",
       "    }\n",
       "\n",
       "    .dataframe tbody tr th {\n",
       "        vertical-align: top;\n",
       "    }\n",
       "\n",
       "    .dataframe thead th {\n",
       "        text-align: right;\n",
       "    }\n",
       "</style>\n",
       "<table border=\"1\" class=\"dataframe\">\n",
       "  <thead>\n",
       "    <tr style=\"text-align: right;\">\n",
       "      <th></th>\n",
       "      <th>Id</th>\n",
       "      <th>PID</th>\n",
       "      <th>MS SubClass</th>\n",
       "      <th>MS Zoning</th>\n",
       "      <th>Lot Frontage</th>\n",
       "      <th>Lot Area</th>\n",
       "      <th>Street</th>\n",
       "      <th>Alley</th>\n",
       "      <th>Lot Shape</th>\n",
       "      <th>Land Contour</th>\n",
       "      <th>...</th>\n",
       "      <th>Screen Porch</th>\n",
       "      <th>Pool Area</th>\n",
       "      <th>Pool QC</th>\n",
       "      <th>Fence</th>\n",
       "      <th>Misc Feature</th>\n",
       "      <th>Misc Val</th>\n",
       "      <th>Mo Sold</th>\n",
       "      <th>Yr Sold</th>\n",
       "      <th>Sale Type</th>\n",
       "      <th>SalePrice</th>\n",
       "    </tr>\n",
       "  </thead>\n",
       "  <tbody>\n",
       "    <tr>\n",
       "      <th>0</th>\n",
       "      <td>109</td>\n",
       "      <td>533352170</td>\n",
       "      <td>60</td>\n",
       "      <td>RL</td>\n",
       "      <td>NaN</td>\n",
       "      <td>13517</td>\n",
       "      <td>Pave</td>\n",
       "      <td>NaN</td>\n",
       "      <td>IR1</td>\n",
       "      <td>Lvl</td>\n",
       "      <td>...</td>\n",
       "      <td>0</td>\n",
       "      <td>0</td>\n",
       "      <td>NaN</td>\n",
       "      <td>NaN</td>\n",
       "      <td>NaN</td>\n",
       "      <td>0</td>\n",
       "      <td>3</td>\n",
       "      <td>2010</td>\n",
       "      <td>WD</td>\n",
       "      <td>130500</td>\n",
       "    </tr>\n",
       "    <tr>\n",
       "      <th>1</th>\n",
       "      <td>544</td>\n",
       "      <td>531379050</td>\n",
       "      <td>60</td>\n",
       "      <td>RL</td>\n",
       "      <td>43.0</td>\n",
       "      <td>11492</td>\n",
       "      <td>Pave</td>\n",
       "      <td>NaN</td>\n",
       "      <td>IR1</td>\n",
       "      <td>Lvl</td>\n",
       "      <td>...</td>\n",
       "      <td>0</td>\n",
       "      <td>0</td>\n",
       "      <td>NaN</td>\n",
       "      <td>NaN</td>\n",
       "      <td>NaN</td>\n",
       "      <td>0</td>\n",
       "      <td>4</td>\n",
       "      <td>2009</td>\n",
       "      <td>WD</td>\n",
       "      <td>220000</td>\n",
       "    </tr>\n",
       "    <tr>\n",
       "      <th>2</th>\n",
       "      <td>153</td>\n",
       "      <td>535304180</td>\n",
       "      <td>20</td>\n",
       "      <td>RL</td>\n",
       "      <td>68.0</td>\n",
       "      <td>7922</td>\n",
       "      <td>Pave</td>\n",
       "      <td>NaN</td>\n",
       "      <td>Reg</td>\n",
       "      <td>Lvl</td>\n",
       "      <td>...</td>\n",
       "      <td>0</td>\n",
       "      <td>0</td>\n",
       "      <td>NaN</td>\n",
       "      <td>NaN</td>\n",
       "      <td>NaN</td>\n",
       "      <td>0</td>\n",
       "      <td>1</td>\n",
       "      <td>2010</td>\n",
       "      <td>WD</td>\n",
       "      <td>109000</td>\n",
       "    </tr>\n",
       "    <tr>\n",
       "      <th>3</th>\n",
       "      <td>318</td>\n",
       "      <td>916386060</td>\n",
       "      <td>60</td>\n",
       "      <td>RL</td>\n",
       "      <td>73.0</td>\n",
       "      <td>9802</td>\n",
       "      <td>Pave</td>\n",
       "      <td>NaN</td>\n",
       "      <td>Reg</td>\n",
       "      <td>Lvl</td>\n",
       "      <td>...</td>\n",
       "      <td>0</td>\n",
       "      <td>0</td>\n",
       "      <td>NaN</td>\n",
       "      <td>NaN</td>\n",
       "      <td>NaN</td>\n",
       "      <td>0</td>\n",
       "      <td>4</td>\n",
       "      <td>2010</td>\n",
       "      <td>WD</td>\n",
       "      <td>174000</td>\n",
       "    </tr>\n",
       "    <tr>\n",
       "      <th>4</th>\n",
       "      <td>255</td>\n",
       "      <td>906425045</td>\n",
       "      <td>50</td>\n",
       "      <td>RL</td>\n",
       "      <td>82.0</td>\n",
       "      <td>14235</td>\n",
       "      <td>Pave</td>\n",
       "      <td>NaN</td>\n",
       "      <td>IR1</td>\n",
       "      <td>Lvl</td>\n",
       "      <td>...</td>\n",
       "      <td>0</td>\n",
       "      <td>0</td>\n",
       "      <td>NaN</td>\n",
       "      <td>NaN</td>\n",
       "      <td>NaN</td>\n",
       "      <td>0</td>\n",
       "      <td>3</td>\n",
       "      <td>2010</td>\n",
       "      <td>WD</td>\n",
       "      <td>138500</td>\n",
       "    </tr>\n",
       "  </tbody>\n",
       "</table>\n",
       "<p>5 rows × 81 columns</p>\n",
       "</div>"
      ],
      "text/plain": [
       "    Id        PID  MS SubClass MS Zoning  Lot Frontage  Lot Area Street Alley  \\\n",
       "0  109  533352170           60        RL           NaN     13517   Pave   NaN   \n",
       "1  544  531379050           60        RL          43.0     11492   Pave   NaN   \n",
       "2  153  535304180           20        RL          68.0      7922   Pave   NaN   \n",
       "3  318  916386060           60        RL          73.0      9802   Pave   NaN   \n",
       "4  255  906425045           50        RL          82.0     14235   Pave   NaN   \n",
       "\n",
       "  Lot Shape Land Contour  ... Screen Porch Pool Area Pool QC Fence  \\\n",
       "0       IR1          Lvl  ...            0         0     NaN   NaN   \n",
       "1       IR1          Lvl  ...            0         0     NaN   NaN   \n",
       "2       Reg          Lvl  ...            0         0     NaN   NaN   \n",
       "3       Reg          Lvl  ...            0         0     NaN   NaN   \n",
       "4       IR1          Lvl  ...            0         0     NaN   NaN   \n",
       "\n",
       "  Misc Feature Misc Val Mo Sold Yr Sold  Sale Type  SalePrice  \n",
       "0          NaN        0       3    2010        WD      130500  \n",
       "1          NaN        0       4    2009        WD      220000  \n",
       "2          NaN        0       1    2010        WD      109000  \n",
       "3          NaN        0       4    2010        WD      174000  \n",
       "4          NaN        0       3    2010        WD      138500  \n",
       "\n",
       "[5 rows x 81 columns]"
      ]
     },
     "execution_count": 3,
     "metadata": {},
     "output_type": "execute_result"
    }
   ],
   "source": [
    "train.head()"
   ]
  },
  {
   "cell_type": "code",
   "execution_count": 4,
   "id": "7ca4be58-c8e3-4c55-b730-61c10f00570f",
   "metadata": {},
   "outputs": [
    {
     "data": {
      "text/plain": [
       "(2051, 81)"
      ]
     },
     "execution_count": 4,
     "metadata": {},
     "output_type": "execute_result"
    }
   ],
   "source": [
    "train.shape"
   ]
  },
  {
   "cell_type": "code",
   "execution_count": 5,
   "id": "bbd2f7a2-13da-4c8d-8ba2-dbe6bbe5bb5d",
   "metadata": {},
   "outputs": [
    {
     "data": {
      "text/plain": [
       "Index(['Id', 'PID', 'MS SubClass', 'MS Zoning', 'Lot Frontage', 'Lot Area',\n",
       "       'Street', 'Alley', 'Lot Shape', 'Land Contour', 'Utilities',\n",
       "       'Lot Config', 'Land Slope', 'Neighborhood', 'Condition 1',\n",
       "       'Condition 2', 'Bldg Type', 'House Style', 'Overall Qual',\n",
       "       'Overall Cond', 'Year Built', 'Year Remod/Add', 'Roof Style',\n",
       "       'Roof Matl', 'Exterior 1st', 'Exterior 2nd', 'Mas Vnr Type',\n",
       "       'Mas Vnr Area', 'Exter Qual', 'Exter Cond', 'Foundation', 'Bsmt Qual',\n",
       "       'Bsmt Cond', 'Bsmt Exposure', 'BsmtFin Type 1', 'BsmtFin SF 1',\n",
       "       'BsmtFin Type 2', 'BsmtFin SF 2', 'Bsmt Unf SF', 'Total Bsmt SF',\n",
       "       'Heating', 'Heating QC', 'Central Air', 'Electrical', '1st Flr SF',\n",
       "       '2nd Flr SF', 'Low Qual Fin SF', 'Gr Liv Area', 'Bsmt Full Bath',\n",
       "       'Bsmt Half Bath', 'Full Bath', 'Half Bath', 'Bedroom AbvGr',\n",
       "       'Kitchen AbvGr', 'Kitchen Qual', 'TotRms AbvGrd', 'Functional',\n",
       "       'Fireplaces', 'Fireplace Qu', 'Garage Type', 'Garage Yr Blt',\n",
       "       'Garage Finish', 'Garage Cars', 'Garage Area', 'Garage Qual',\n",
       "       'Garage Cond', 'Paved Drive', 'Wood Deck SF', 'Open Porch SF',\n",
       "       'Enclosed Porch', '3Ssn Porch', 'Screen Porch', 'Pool Area', 'Pool QC',\n",
       "       'Fence', 'Misc Feature', 'Misc Val', 'Mo Sold', 'Yr Sold', 'Sale Type',\n",
       "       'SalePrice'],\n",
       "      dtype='object')"
      ]
     },
     "execution_count": 5,
     "metadata": {},
     "output_type": "execute_result"
    }
   ],
   "source": [
    "train.columns"
   ]
  },
  {
   "cell_type": "code",
   "execution_count": 6,
   "id": "1b2f5936-ea63-4a28-ae32-01079cc52cba",
   "metadata": {},
   "outputs": [
    {
     "data": {
      "text/plain": [
       "count      2051.000000\n",
       "mean     181469.701609\n",
       "std       79258.659352\n",
       "min       12789.000000\n",
       "25%      129825.000000\n",
       "50%      162500.000000\n",
       "75%      214000.000000\n",
       "max      611657.000000\n",
       "Name: SalePrice, dtype: float64"
      ]
     },
     "execution_count": 6,
     "metadata": {},
     "output_type": "execute_result"
    }
   ],
   "source": [
    "train['SalePrice'].describe()"
   ]
  },
  {
   "cell_type": "code",
   "execution_count": 7,
   "id": "591b96ee-bf16-42bd-a93b-7374b0c344bd",
   "metadata": {},
   "outputs": [
    {
     "data": {
      "image/png": "[encoded data removed]",
      "text/plain": [
       "<Figure size 720x576 with 1 Axes>"
      ]
     },
     "metadata": {
      "needs_background": "light"
     },
     "output_type": "display_data"
    }
   ],
   "source": [
    "# Looking for outliers mentioned in the data description\n",
    "plt.figure(figsize=(10,8))\n",
    "plt.scatter(train['SalePrice'], train['Gr Liv Area'])\n",
    "plt.title('Sale Price v Above Ground Living Area')\n",
    "plt.xlabel('Sale Price')\n",
    "plt.ylabel('Above Ground Living Area');"
   ]
  },
  {
   "cell_type": "code",
   "execution_count": 8,
   "id": "9196ef2e-cf25-417e-b42d-57cbe54bce86",
   "metadata": {},
   "outputs": [],
   "source": [
    "# model would be better off without them\n",
    "train = train[train['Gr Liv Area'] < 5000]"
   ]
  },
  {
   "cell_type": "code",
   "execution_count": 9,
   "id": "c182b896-9e5a-4b40-b205-f17d12a17c96",
   "metadata": {},
   "outputs": [
    {
     "data": {
      "image/png": "[encoded data removed]",
      "text/plain": [
       "<Figure size 720x576 with 1 Axes>"
      ]
     },
     "metadata": {
      "needs_background": "light"
     },
     "output_type": "display_data"
    }
   ],
   "source": [
    "# This looks better\n",
    "plt.figure(figsize=(10,8))\n",
    "plt.scatter(train['SalePrice'], train['Gr Liv Area'])\n",
    "plt.title('Sale Price v Above Ground Living Area')\n",
    "plt.xlabel('Sale Price')\n",
    "plt.ylabel('Above Ground Living Area');"
   ]
  },
  {
   "cell_type": "code",
   "execution_count": 10,
   "id": "3307bd8d-5ae6-4ad3-84cc-acbe4e964c34",
   "metadata": {},
   "outputs": [
    {
     "data": {
      "image/png": "[encoded data removed]",
      "text/plain": [
       "<Figure size 720x576 with 2 Axes>"
      ]
     },
     "metadata": {
      "needs_background": "light"
     },
     "output_type": "display_data"
    }
   ],
   "source": [
    "# Heatmap to display most promising variables\n",
    "plt.figure(figsize=(10,8))\n",
    "sns.heatmap(train.corr()[['SalePrice']].sort_values(by='SalePrice', ascending=False), annot=True, vmin=-1, vmax=1);"
   ]
  },
  {
   "cell_type": "markdown",
   "id": "4650ea5d-ed6d-49fa-a978-05a0af764f53",
   "metadata": {},
   "source": [
    "## Attempt #2"
   ]
  },
  {
   "cell_type": "code",
   "execution_count": 11,
   "id": "a791b972-de59-4fcb-a805-afde120c9f59",
   "metadata": {},
   "outputs": [],
   "source": [
    "# keeping it as simple as possible for first try\n",
    "X = train[['Overall Cond', 'Overall Qual', 'Yr Sold', 'TotRms AbvGrd']]\n",
    "y = train['SalePrice']"
   ]
  },
  {
   "cell_type": "code",
   "execution_count": 12,
   "id": "18325972-28b3-425c-bdcd-faa3daaef4f2",
   "metadata": {},
   "outputs": [
    {
     "data": {
      "text/plain": [
       "LinearRegression()"
      ]
     },
     "execution_count": 12,
     "metadata": {},
     "output_type": "execute_result"
    }
   ],
   "source": [
    "lr = LinearRegression()\n",
    "lr.fit(X, y)"
   ]
  },
  {
   "cell_type": "code",
   "execution_count": 13,
   "id": "56007356-b3fe-46b9-93d6-d41dfcdfeb33",
   "metadata": {},
   "outputs": [
    {
     "data": {
      "text/plain": [
       "0.6963110464349556"
      ]
     },
     "execution_count": 13,
     "metadata": {},
     "output_type": "execute_result"
    }
   ],
   "source": [
    "lr.score(X, y)"
   ]
  },
  {
   "cell_type": "code",
   "execution_count": 14,
   "id": "784087d0-8372-423f-b6e9-ef40ccec1890",
   "metadata": {},
   "outputs": [],
   "source": [
    "preds = lr.predict(test[['Overall Cond', 'Overall Qual', 'Yr Sold', 'TotRms AbvGrd']])\n",
    "test['SalePrice'] = preds"
   ]
  },
  {
   "cell_type": "code",
   "execution_count": 15,
   "id": "c07af2a9-f138-42b5-9e6c-7eadca24ab02",
   "metadata": {},
   "outputs": [],
   "source": [
    "lr_submit = test[['Id', 'SalePrice']]"
   ]
  },
  {
   "cell_type": "code",
   "execution_count": 16,
   "id": "423f80f1-5d99-4b3f-ae0a-5fe275a58c1e",
   "metadata": {},
   "outputs": [],
   "source": [
    "lr_submit.set_index('Id', inplace=True)"
   ]
  },
  {
   "cell_type": "code",
   "execution_count": 17,
   "id": "188834a8-2879-487e-8b25-8938b28cd0e4",
   "metadata": {},
   "outputs": [
    {
     "data": {
      "text/html": [
       "<div>\n",
       "<style scoped>\n",
       "    .dataframe tbody tr th:only-of-type {\n",
       "        vertical-align: middle;\n",
       "    }\n",
       "\n",
       "    .dataframe tbody tr th {\n",
       "        vertical-align: top;\n",
       "    }\n",
       "\n",
       "    .dataframe thead th {\n",
       "        text-align: right;\n",
       "    }\n",
       "</style>\n",
       "<table border=\"1\" class=\"dataframe\">\n",
       "  <thead>\n",
       "    <tr style=\"text-align: right;\">\n",
       "      <th></th>\n",
       "      <th>SalePrice</th>\n",
       "    </tr>\n",
       "    <tr>\n",
       "      <th>Id</th>\n",
       "      <th></th>\n",
       "    </tr>\n",
       "  </thead>\n",
       "  <tbody>\n",
       "    <tr>\n",
       "      <th>2658</th>\n",
       "      <td>206263.526595</td>\n",
       "    </tr>\n",
       "    <tr>\n",
       "      <th>2718</th>\n",
       "      <td>183726.429011</td>\n",
       "    </tr>\n",
       "    <tr>\n",
       "      <th>2414</th>\n",
       "      <td>224762.592179</td>\n",
       "    </tr>\n",
       "    <tr>\n",
       "      <th>1989</th>\n",
       "      <td>119346.217000</td>\n",
       "    </tr>\n",
       "    <tr>\n",
       "      <th>625</th>\n",
       "      <td>172430.712285</td>\n",
       "    </tr>\n",
       "  </tbody>\n",
       "</table>\n",
       "</div>"
      ],
      "text/plain": [
       "          SalePrice\n",
       "Id                 \n",
       "2658  206263.526595\n",
       "2718  183726.429011\n",
       "2414  224762.592179\n",
       "1989  119346.217000\n",
       "625   172430.712285"
      ]
     },
     "execution_count": 17,
     "metadata": {},
     "output_type": "execute_result"
    }
   ],
   "source": [
    "# Check that its formatted correctly\n",
    "lr_submit.head()"
   ]
  },
  {
   "cell_type": "code",
   "execution_count": 18,
   "id": "f94e21f6-5698-4a5c-8262-1e632821fbec",
   "metadata": {},
   "outputs": [],
   "source": [
    "# ready for submission\n",
    "lr_submit.to_csv('../output/secondattempt.csv')"
   ]
  },
  {
   "cell_type": "markdown",
   "id": "ae646f68-fca6-4fc2-af24-4b94333fbd4f",
   "metadata": {},
   "source": [
    "## Attempt #3"
   ]
  },
  {
   "cell_type": "code",
   "execution_count": 19,
   "id": "47aa033d-e112-4b31-92ed-1216ff8c3359",
   "metadata": {},
   "outputs": [],
   "source": [
    "X = train[['Lot Area', 'Neighborhood', 'Bldg Type', 'Overall Qual', 'Overall Cond', \n",
    "           'Heating', 'Heating QC', 'Central Air', 'Electrical', 'Kitchen Qual', \n",
    "           'TotRms AbvGrd', 'Pool Area', 'Pool QC', 'Fence', 'Misc Val', 'Yr Sold']]\n",
    "y = train['SalePrice']"
   ]
  },
  {
   "cell_type": "code",
   "execution_count": 20,
   "id": "0e9d4677-9259-496e-b565-29925117b512",
   "metadata": {},
   "outputs": [
    {
     "data": {
      "text/html": [
       "<div>\n",
       "<style scoped>\n",
       "    .dataframe tbody tr th:only-of-type {\n",
       "        vertical-align: middle;\n",
       "    }\n",
       "\n",
       "    .dataframe tbody tr th {\n",
       "        vertical-align: top;\n",
       "    }\n",
       "\n",
       "    .dataframe thead th {\n",
       "        text-align: right;\n",
       "    }\n",
       "</style>\n",
       "<table border=\"1\" class=\"dataframe\">\n",
       "  <thead>\n",
       "    <tr style=\"text-align: right;\">\n",
       "      <th></th>\n",
       "      <th>Lot Area</th>\n",
       "      <th>Neighborhood</th>\n",
       "      <th>Bldg Type</th>\n",
       "      <th>Overall Qual</th>\n",
       "      <th>Overall Cond</th>\n",
       "      <th>Heating</th>\n",
       "      <th>Heating QC</th>\n",
       "      <th>Central Air</th>\n",
       "      <th>Electrical</th>\n",
       "      <th>Kitchen Qual</th>\n",
       "      <th>TotRms AbvGrd</th>\n",
       "      <th>Pool Area</th>\n",
       "      <th>Pool QC</th>\n",
       "      <th>Fence</th>\n",
       "      <th>Misc Val</th>\n",
       "      <th>Yr Sold</th>\n",
       "    </tr>\n",
       "  </thead>\n",
       "  <tbody>\n",
       "    <tr>\n",
       "      <th>0</th>\n",
       "      <td>13517</td>\n",
       "      <td>Sawyer</td>\n",
       "      <td>1Fam</td>\n",
       "      <td>6</td>\n",
       "      <td>8</td>\n",
       "      <td>GasA</td>\n",
       "      <td>Ex</td>\n",
       "      <td>Y</td>\n",
       "      <td>SBrkr</td>\n",
       "      <td>Gd</td>\n",
       "      <td>6</td>\n",
       "      <td>0</td>\n",
       "      <td>NaN</td>\n",
       "      <td>NaN</td>\n",
       "      <td>0</td>\n",
       "      <td>2010</td>\n",
       "    </tr>\n",
       "    <tr>\n",
       "      <th>1</th>\n",
       "      <td>11492</td>\n",
       "      <td>SawyerW</td>\n",
       "      <td>1Fam</td>\n",
       "      <td>7</td>\n",
       "      <td>5</td>\n",
       "      <td>GasA</td>\n",
       "      <td>Ex</td>\n",
       "      <td>Y</td>\n",
       "      <td>SBrkr</td>\n",
       "      <td>Gd</td>\n",
       "      <td>8</td>\n",
       "      <td>0</td>\n",
       "      <td>NaN</td>\n",
       "      <td>NaN</td>\n",
       "      <td>0</td>\n",
       "      <td>2009</td>\n",
       "    </tr>\n",
       "    <tr>\n",
       "      <th>2</th>\n",
       "      <td>7922</td>\n",
       "      <td>NAmes</td>\n",
       "      <td>1Fam</td>\n",
       "      <td>5</td>\n",
       "      <td>7</td>\n",
       "      <td>GasA</td>\n",
       "      <td>TA</td>\n",
       "      <td>Y</td>\n",
       "      <td>SBrkr</td>\n",
       "      <td>Gd</td>\n",
       "      <td>5</td>\n",
       "      <td>0</td>\n",
       "      <td>NaN</td>\n",
       "      <td>NaN</td>\n",
       "      <td>0</td>\n",
       "      <td>2010</td>\n",
       "    </tr>\n",
       "    <tr>\n",
       "      <th>3</th>\n",
       "      <td>9802</td>\n",
       "      <td>Timber</td>\n",
       "      <td>1Fam</td>\n",
       "      <td>5</td>\n",
       "      <td>5</td>\n",
       "      <td>GasA</td>\n",
       "      <td>Gd</td>\n",
       "      <td>Y</td>\n",
       "      <td>SBrkr</td>\n",
       "      <td>TA</td>\n",
       "      <td>7</td>\n",
       "      <td>0</td>\n",
       "      <td>NaN</td>\n",
       "      <td>NaN</td>\n",
       "      <td>0</td>\n",
       "      <td>2010</td>\n",
       "    </tr>\n",
       "    <tr>\n",
       "      <th>4</th>\n",
       "      <td>14235</td>\n",
       "      <td>SawyerW</td>\n",
       "      <td>1Fam</td>\n",
       "      <td>6</td>\n",
       "      <td>8</td>\n",
       "      <td>GasA</td>\n",
       "      <td>TA</td>\n",
       "      <td>Y</td>\n",
       "      <td>SBrkr</td>\n",
       "      <td>TA</td>\n",
       "      <td>6</td>\n",
       "      <td>0</td>\n",
       "      <td>NaN</td>\n",
       "      <td>NaN</td>\n",
       "      <td>0</td>\n",
       "      <td>2010</td>\n",
       "    </tr>\n",
       "  </tbody>\n",
       "</table>\n",
       "</div>"
      ],
      "text/plain": [
       "   Lot Area Neighborhood Bldg Type  Overall Qual  Overall Cond Heating  \\\n",
       "0     13517       Sawyer      1Fam             6             8    GasA   \n",
       "1     11492      SawyerW      1Fam             7             5    GasA   \n",
       "2      7922        NAmes      1Fam             5             7    GasA   \n",
       "3      9802       Timber      1Fam             5             5    GasA   \n",
       "4     14235      SawyerW      1Fam             6             8    GasA   \n",
       "\n",
       "  Heating QC Central Air Electrical Kitchen Qual  TotRms AbvGrd  Pool Area  \\\n",
       "0         Ex           Y      SBrkr           Gd              6          0   \n",
       "1         Ex           Y      SBrkr           Gd              8          0   \n",
       "2         TA           Y      SBrkr           Gd              5          0   \n",
       "3         Gd           Y      SBrkr           TA              7          0   \n",
       "4         TA           Y      SBrkr           TA              6          0   \n",
       "\n",
       "  Pool QC Fence  Misc Val  Yr Sold  \n",
       "0     NaN   NaN         0     2010  \n",
       "1     NaN   NaN         0     2009  \n",
       "2     NaN   NaN         0     2010  \n",
       "3     NaN   NaN         0     2010  \n",
       "4     NaN   NaN         0     2010  "
      ]
     },
     "execution_count": 20,
     "metadata": {},
     "output_type": "execute_result"
    }
   ],
   "source": [
    "X.head()"
   ]
  },
  {
   "cell_type": "code",
   "execution_count": 21,
   "id": "4c0a2649-f348-4672-ba1d-41d4e2e19a22",
   "metadata": {},
   "outputs": [
    {
     "data": {
      "text/plain": [
       "Lot Area            0\n",
       "Neighborhood        0\n",
       "Bldg Type           0\n",
       "Overall Qual        0\n",
       "Overall Cond        0\n",
       "Heating             0\n",
       "Heating QC          0\n",
       "Central Air         0\n",
       "Electrical          0\n",
       "Kitchen Qual        0\n",
       "TotRms AbvGrd       0\n",
       "Pool Area           0\n",
       "Pool QC          2041\n",
       "Fence            1649\n",
       "Misc Val            0\n",
       "Yr Sold             0\n",
       "dtype: int64"
      ]
     },
     "execution_count": 21,
     "metadata": {},
     "output_type": "execute_result"
    }
   ],
   "source": [
    "X.isna().sum()"
   ]
  },
  {
   "cell_type": "code",
   "execution_count": 22,
   "id": "477c259a-5a3a-4c8a-9d05-1cdea6c6478b",
   "metadata": {
    "tags": []
   },
   "outputs": [],
   "source": [
    "# ignoring unknown to avoid values in testing data not found in training data\n",
    "ct = ColumnTransformer([\n",
    "    ('oh1', OneHotEncoder(drop='first', sparse=False, handle_unknown='ignore'), ['Neighborhood', 'Bldg Type', 'Heating', 'Heating QC', 'Central Air', 'Electrical', 'Kitchen Qual'],),\n",
    "    ('oh2', OneHotEncoder(sparse=False, handle_unknown='ignore'), ['Pool QC', 'Fence'])\n",
    "], remainder='passthrough') "
   ]
  },
  {
   "cell_type": "code",
   "execution_count": 23,
   "id": "ac893b4b-2ffa-464d-b418-84ec93ae0987",
   "metadata": {},
   "outputs": [
    {
     "data": {
      "text/plain": [
       "ColumnTransformer(remainder='passthrough',\n",
       "                  transformers=[('oh1',\n",
       "                                 OneHotEncoder(drop='first',\n",
       "                                               handle_unknown='ignore',\n",
       "                                               sparse=False),\n",
       "                                 ['Neighborhood', 'Bldg Type', 'Heating',\n",
       "                                  'Heating QC', 'Central Air', 'Electrical',\n",
       "                                  'Kitchen Qual']),\n",
       "                                ('oh2',\n",
       "                                 OneHotEncoder(handle_unknown='ignore',\n",
       "                                               sparse=False),\n",
       "                                 ['Pool QC', 'Fence'])])"
      ]
     },
     "execution_count": 23,
     "metadata": {},
     "output_type": "execute_result"
    }
   ],
   "source": [
    "ct.fit(X)"
   ]
  },
  {
   "cell_type": "code",
   "execution_count": 24,
   "id": "af8890e1-7da4-434f-b1ec-eccb3c2139a8",
   "metadata": {},
   "outputs": [],
   "source": [
    "X = ct.transform(X)"
   ]
  },
  {
   "cell_type": "code",
   "execution_count": 25,
   "id": "6f0bfb2d-0df2-4d75-b8f3-7f4b7be0ba95",
   "metadata": {},
   "outputs": [
    {
     "data": {
      "text/plain": [
       "LinearRegression()"
      ]
     },
     "execution_count": 25,
     "metadata": {},
     "output_type": "execute_result"
    }
   ],
   "source": [
    "lr = LinearRegression()\n",
    "lr.fit(X, y)"
   ]
  },
  {
   "cell_type": "code",
   "execution_count": 26,
   "id": "5836b429-c1ac-4f55-9278-501cc813e005",
   "metadata": {},
   "outputs": [
    {
     "data": {
      "text/plain": [
       "0.8332496736143115"
      ]
     },
     "execution_count": 26,
     "metadata": {},
     "output_type": "execute_result"
    }
   ],
   "source": [
    "lr.score(X, y)"
   ]
  },
  {
   "cell_type": "code",
   "execution_count": 27,
   "id": "f854ece5-3762-4bcf-a7bc-5577b3c26ad1",
   "metadata": {},
   "outputs": [
    {
     "name": "stderr",
     "output_type": "stream",
     "text": [
      "C:\\Users\\Daniel\\anaconda3\\lib\\site-packages\\sklearn\\preprocessing\\_encoders.py:170: UserWarning: Found unknown categories in columns [2, 5, 6] during transform. These unknown categories will be encoded as all zeros\n",
      "  warnings.warn(\n"
     ]
    }
   ],
   "source": [
    "X_test = test[['Lot Area', 'Neighborhood', 'Bldg Type', 'Overall Qual', 'Overall Cond', \n",
    "               'Heating', 'Heating QC', 'Central Air', 'Electrical', 'Kitchen Qual', \n",
    "               'TotRms AbvGrd', 'Pool Area', 'Pool QC', 'Fence', 'Misc Val', 'Yr Sold']]\n",
    "X_test = ct.transform(X_test)"
   ]
  },
  {
   "cell_type": "code",
   "execution_count": 28,
   "id": "a3845b1c-d43e-4af5-a8c9-a9af82ef3224",
   "metadata": {},
   "outputs": [],
   "source": [
    "preds = lr.predict(X_test)"
   ]
  },
  {
   "cell_type": "code",
   "execution_count": 29,
   "id": "3edf2273-0bbd-4ef7-9e77-223514519dce",
   "metadata": {},
   "outputs": [],
   "source": [
    "test['SalePrice'] = preds\n",
    "lr_submit = test[['Id', 'SalePrice']]"
   ]
  },
  {
   "cell_type": "code",
   "execution_count": 30,
   "id": "eb2d0f03-6f62-46a1-89ba-a88ca58f9812",
   "metadata": {},
   "outputs": [],
   "source": [
    "lr_submit.set_index('Id', inplace=True)\n",
    "lr_submit.to_csv('../output/thirdattempt.csv')"
   ]
  },
  {
   "cell_type": "markdown",
   "id": "b902c0af-4b3a-4cf3-9108-192330d969ae",
   "metadata": {},
   "source": [
    "## Attempt #4"
   ]
  },
  {
   "cell_type": "code",
   "execution_count": 31,
   "id": "e20af2a8-c8d2-414b-a8ce-598badefc680",
   "metadata": {},
   "outputs": [],
   "source": [
    "X = train.copy()[['House Style', 'Lot Area', 'Lot Shape', 'Land Slope', 'Neighborhood', 'Bldg Type', 'Overall Qual', 'Overall Cond', 'Year Remod/Add', \n",
    "           'Foundation', 'Heating QC', 'Central Air', '1st Flr SF', '2nd Flr SF', 'Fireplaces', 'Garage Cars', 'Garage Qual', 'Garage Cond', \n",
    "           'Paved Drive', 'Wood Deck SF', 'Open Porch SF', 'Enclosed Porch', '3Ssn Porch', 'Screen Porch', 'Pool Area', 'Misc Val', 'Yr Sold']]\n",
    "y = train['SalePrice']"
   ]
  },
  {
   "cell_type": "code",
   "execution_count": 32,
   "id": "52424383-995f-4596-a4cc-6226191c65c6",
   "metadata": {},
   "outputs": [
    {
     "data": {
      "text/plain": [
       "House Style         0\n",
       "Lot Area            0\n",
       "Lot Shape           0\n",
       "Land Slope          0\n",
       "Neighborhood        0\n",
       "Bldg Type           0\n",
       "Overall Qual        0\n",
       "Overall Cond        0\n",
       "Year Remod/Add      0\n",
       "Foundation          0\n",
       "Heating QC          0\n",
       "Central Air         0\n",
       "1st Flr SF          0\n",
       "2nd Flr SF          0\n",
       "Fireplaces          0\n",
       "Garage Cars         1\n",
       "Garage Qual       114\n",
       "Garage Cond       114\n",
       "Paved Drive         0\n",
       "Wood Deck SF        0\n",
       "Open Porch SF       0\n",
       "Enclosed Porch      0\n",
       "3Ssn Porch          0\n",
       "Screen Porch        0\n",
       "Pool Area           0\n",
       "Misc Val            0\n",
       "Yr Sold             0\n",
       "dtype: int64"
      ]
     },
     "execution_count": 32,
     "metadata": {},
     "output_type": "execute_result"
    }
   ],
   "source": [
    "# looking for potential issues\n",
    "X.isna().sum()"
   ]
  },
  {
   "cell_type": "code",
   "execution_count": 33,
   "id": "8d3dc07c-ae28-47f1-9b3e-2a17b8e75b0d",
   "metadata": {},
   "outputs": [],
   "source": [
    "X['Garage Cars'] = X['Garage Cars'].fillna(0)"
   ]
  },
  {
   "cell_type": "code",
   "execution_count": 34,
   "id": "29d12e19-41fe-43da-8994-64efee09d1e8",
   "metadata": {},
   "outputs": [],
   "source": [
    "X.fillna('NA', inplace=True)"
   ]
  },
  {
   "cell_type": "code",
   "execution_count": 35,
   "id": "cae3ca65-329c-4115-9c16-e778dbea7dd9",
   "metadata": {
    "tags": []
   },
   "outputs": [],
   "source": [
    "# train test split\n",
    "X_train, X_test, y_train, y_test = train_test_split(X, y, random_state=2022)"
   ]
  },
  {
   "cell_type": "code",
   "execution_count": 36,
   "id": "fe039f41-95b1-40b0-bea8-7ddd83afb62e",
   "metadata": {},
   "outputs": [],
   "source": [
    "ct = ColumnTransformer([\n",
    "    ('oh1', OneHotEncoder(drop='first', sparse=False, handle_unknown='ignore'), ['House Style', 'Lot Shape', 'Neighborhood', 'Land Slope', 'Bldg Type', 'Foundation', 'Heating QC', 'Central Air', 'Garage Qual', 'Garage Cond', 'Paved Drive']),\n",
    "    ('pf', PolynomialFeatures(include_bias=False), ['Overall Qual', 'Overall Cond', 'Lot Area', '1st Flr SF', '2nd Flr SF', 'Fireplaces', 'Garage Cars'])\n",
    "], remainder='passthrough') "
   ]
  },
  {
   "cell_type": "code",
   "execution_count": 37,
   "id": "2beeca46-ac60-4578-a320-4ede4b68294d",
   "metadata": {},
   "outputs": [],
   "source": [
    "ct.fit(X_train);"
   ]
  },
  {
   "cell_type": "code",
   "execution_count": 38,
   "id": "f1831b5d-0167-40dd-8795-519c83f8e609",
   "metadata": {},
   "outputs": [],
   "source": [
    "X_train_ct = ct.transform(X_train)"
   ]
  },
  {
   "cell_type": "code",
   "execution_count": 39,
   "id": "05ec006f-3a7a-453f-ba95-2632c5f5bce0",
   "metadata": {},
   "outputs": [
    {
     "data": {
      "text/plain": [
       "LinearRegression()"
      ]
     },
     "execution_count": 39,
     "metadata": {},
     "output_type": "execute_result"
    }
   ],
   "source": [
    "lr = LinearRegression()\n",
    "lr.fit(X_train_ct, y_train)"
   ]
  },
  {
   "cell_type": "code",
   "execution_count": 40,
   "id": "f0e22526-1eaa-4435-a105-4e1aca951b35",
   "metadata": {},
   "outputs": [
    {
     "data": {
      "text/plain": [
       "0.9221363896891892"
      ]
     },
     "execution_count": 40,
     "metadata": {},
     "output_type": "execute_result"
    }
   ],
   "source": [
    "lr.score(X_train_ct, y_train)"
   ]
  },
  {
   "cell_type": "code",
   "execution_count": 41,
   "id": "7b35ded6-5f7b-4abd-9e82-472ed49b84ed",
   "metadata": {},
   "outputs": [
    {
     "data": {
      "text/plain": [
       "0.8938461050414779"
      ]
     },
     "execution_count": 41,
     "metadata": {},
     "output_type": "execute_result"
    }
   ],
   "source": [
    "# checking variance\n",
    "X_test_ct = ct.transform(X_test)\n",
    "lr.score(X_test_ct, y_test)"
   ]
  },
  {
   "cell_type": "code",
   "execution_count": 42,
   "id": "25deb71e-b5c5-4bc2-b258-fea0f7bf671b",
   "metadata": {},
   "outputs": [
    {
     "data": {
      "text/plain": [
       "0.917572065485797"
      ]
     },
     "execution_count": 42,
     "metadata": {},
     "output_type": "execute_result"
    }
   ],
   "source": [
    "# remaking model with all the training data\n",
    "ct.fit(X)\n",
    "X_final_ct = ct.transform(X)\n",
    "lr_final = LinearRegression()\n",
    "lr_final.fit(X_final_ct, y)\n",
    "lr_final.score(X_final_ct, y)"
   ]
  },
  {
   "cell_type": "code",
   "execution_count": 43,
   "id": "308cdc83-0fc3-468a-a687-3002f166f5bf",
   "metadata": {},
   "outputs": [],
   "source": [
    "# Prepping Test Data\n",
    "X_submit = test.copy()[['House Style', 'Lot Area', 'Lot Shape', 'Land Slope', 'Neighborhood', 'Bldg Type', 'Overall Qual', 'Overall Cond', 'Year Remod/Add', \n",
    "           'Foundation', 'Heating QC', 'Central Air', '1st Flr SF', '2nd Flr SF', 'Fireplaces', 'Garage Cars', 'Garage Qual', 'Garage Cond', \n",
    "           'Paved Drive', 'Wood Deck SF', 'Open Porch SF', 'Enclosed Porch', '3Ssn Porch', 'Screen Porch', 'Pool Area', 'Misc Val', 'Yr Sold']]\n",
    "X_submit.fillna('NA', inplace=True)\n",
    "X_submit_ct = ct.transform(X_submit)"
   ]
  },
  {
   "cell_type": "code",
   "execution_count": 44,
   "id": "ab3b1dc2-09b1-4b89-ae69-9b70346f6d79",
   "metadata": {},
   "outputs": [],
   "source": [
    "# Submission\n",
    "preds = lr_final.predict(X_submit_ct)\n",
    "test['SalePrice'] = preds\n",
    "lr_submit = test[['Id', 'SalePrice']]\n",
    "lr_submit.set_index('Id', inplace=True)\n",
    "lr_submit.to_csv('../output/fourthattempt.csv')"
   ]
  },
  {
   "cell_type": "markdown",
   "id": "9e73a2aa-cef5-4d5b-9fd2-d25e6799ccb0",
   "metadata": {},
   "source": [
    "## Attempt #5\n",
    "The previous model did not have a high variance, so in this model I am adding more variables in order to hopefully reduce bias"
   ]
  },
  {
   "cell_type": "code",
   "execution_count": 45,
   "id": "5d377fbc-f61d-4e00-8be3-8b5326a34c7f",
   "metadata": {},
   "outputs": [],
   "source": [
    "X = train.copy()[['House Style', 'Lot Area', 'Lot Shape', 'Land Slope', 'Neighborhood', 'Bldg Type', 'Overall Qual', 'Overall Cond', 'Year Remod/Add', \n",
    "           'Foundation', 'Heating QC', 'Central Air', '1st Flr SF', '2nd Flr SF', 'Fireplaces', 'Garage Cars', 'Garage Qual', 'Garage Cond', \n",
    "           'Paved Drive', 'Wood Deck SF', 'Open Porch SF', 'Enclosed Porch', '3Ssn Porch', 'Screen Porch', 'Pool Area', 'Misc Val', 'Yr Sold',\n",
    "           'MS SubClass', 'MS Zoning', 'Heating', 'Electrical', 'Kitchen Qual', 'Pool QC', 'Fence', 'Lot Config', 'Year Built', 'Roof Style',\n",
    "           'Roof Matl', 'Exter Qual', 'Exter Cond', 'Bsmt Qual', 'Bsmt Cond', 'Total Bsmt SF', 'Sale Type']]\n",
    "y = train['SalePrice']"
   ]
  },
  {
   "cell_type": "code",
   "execution_count": 46,
   "id": "a53ed3e1-a2b3-4a85-8f1e-062d29ca0be9",
   "metadata": {},
   "outputs": [],
   "source": [
    "# data cleaning before fitting model\n",
    "X['Garage Cars'] = X['Garage Cars'].fillna(0)\n",
    "X['Total Bsmt SF'] = X['Total Bsmt SF'].fillna(0)\n",
    "X.fillna('NA', inplace=True)"
   ]
  },
  {
   "cell_type": "code",
   "execution_count": 47,
   "id": "b93cfaa0-c453-40c8-9c47-618b116d3ced",
   "metadata": {},
   "outputs": [],
   "source": [
    "# train test split\n",
    "X_train, X_test, y_train, y_test = train_test_split(X, y, random_state=2022)"
   ]
  },
  {
   "cell_type": "code",
   "execution_count": 48,
   "id": "bff9c06c-ca7d-4864-b050-230d255f1bab",
   "metadata": {},
   "outputs": [],
   "source": [
    "oh = OneHotEncoder(drop='first', sparse=False, handle_unknown='ignore')\n",
    "\n",
    "ct = ColumnTransformer([\n",
    "    ('oh1', oh, ['House Style', 'Lot Shape', 'Neighborhood', 'Land Slope', 'Bldg Type', 'Foundation', 'Heating QC', 'Central Air', 'Garage Qual', 'Garage Cond', 'Paved Drive', \n",
    "                 'MS SubClass', 'MS Zoning', 'Heating', 'Electrical', 'Kitchen Qual', 'Pool QC', 'Fence', 'Lot Config', 'Year Built', 'Roof Style','Roof Matl', 'Exter Qual', \n",
    "                 'Exter Cond', 'Bsmt Qual', 'Bsmt Cond', 'Sale Type']),\n",
    "    ('pf', PolynomialFeatures(include_bias=False), ['Overall Qual', 'Overall Cond', 'Lot Area', '1st Flr SF', '2nd Flr SF', 'Fireplaces', 'Garage Cars', 'Year Built', 'Total Bsmt SF'])\n",
    "], remainder='passthrough')"
   ]
  },
  {
   "cell_type": "code",
   "execution_count": 49,
   "id": "98e548e5-ae35-4c54-b2d8-13343b4f4a6a",
   "metadata": {},
   "outputs": [],
   "source": [
    "pipe = Pipeline([\n",
    "    ('ct', ct),\n",
    "    ('lr', LinearRegression())\n",
    "])  "
   ]
  },
  {
   "cell_type": "code",
   "execution_count": 50,
   "id": "74b2a2f8-8002-43de-a786-f7535e293dde",
   "metadata": {},
   "outputs": [],
   "source": [
    "pipe.fit(X_train, y_train);"
   ]
  },
  {
   "cell_type": "code",
   "execution_count": 51,
   "id": "07714f67-3d2f-47cb-96d5-4ab3ae084844",
   "metadata": {},
   "outputs": [
    {
     "data": {
      "text/plain": [
       "0.9511168842931104"
      ]
     },
     "execution_count": 51,
     "metadata": {},
     "output_type": "execute_result"
    }
   ],
   "source": [
    "# train score\n",
    "pipe.score(X_train, y_train)"
   ]
  },
  {
   "cell_type": "code",
   "execution_count": 52,
   "id": "fd22df6f-df01-4d60-9add-895a6114f0de",
   "metadata": {},
   "outputs": [
    {
     "name": "stderr",
     "output_type": "stream",
     "text": [
      "C:\\Users\\Daniel\\anaconda3\\lib\\site-packages\\sklearn\\preprocessing\\_encoders.py:170: UserWarning: Found unknown categories in columns [19] during transform. These unknown categories will be encoded as all zeros\n",
      "  warnings.warn(\n"
     ]
    },
    {
     "data": {
      "text/plain": [
       "0.8927922433402178"
      ]
     },
     "execution_count": 52,
     "metadata": {},
     "output_type": "execute_result"
    }
   ],
   "source": [
    "# test score\n",
    "pipe.score(X_test, y_test)"
   ]
  },
  {
   "cell_type": "code",
   "execution_count": 53,
   "id": "390212e5-c149-4dd1-b1ce-18b942e7d241",
   "metadata": {},
   "outputs": [
    {
     "data": {
      "text/plain": [
       "0.9446322648593171"
      ]
     },
     "execution_count": 53,
     "metadata": {},
     "output_type": "execute_result"
    }
   ],
   "source": [
    "# remaking with all data\n",
    "pipe.fit(X, y)\n",
    "pipe.score(X, y)"
   ]
  },
  {
   "cell_type": "code",
   "execution_count": 54,
   "id": "e816ad5e-c2ad-45f4-8c3b-63c384ad102e",
   "metadata": {},
   "outputs": [],
   "source": [
    "# prep test data\n",
    "X_submit = test.copy()[['House Style', 'Lot Area', 'Lot Shape', 'Land Slope', 'Neighborhood', 'Bldg Type', 'Overall Qual', 'Overall Cond', 'Year Remod/Add', \n",
    "           'Foundation', 'Heating QC', 'Central Air', '1st Flr SF', '2nd Flr SF', 'Fireplaces', 'Garage Cars', 'Garage Qual', 'Garage Cond', \n",
    "           'Paved Drive', 'Wood Deck SF', 'Open Porch SF', 'Enclosed Porch', '3Ssn Porch', 'Screen Porch', 'Pool Area', 'Misc Val', 'Yr Sold',\n",
    "           'MS SubClass', 'MS Zoning', 'Heating', 'Electrical', 'Kitchen Qual', 'Pool QC', 'Fence', 'Lot Config', 'Year Built', 'Roof Style',\n",
    "           'Roof Matl', 'Exter Qual', 'Exter Cond', 'Bsmt Qual', 'Bsmt Cond', 'Total Bsmt SF', 'Sale Type']]\n",
    "X_submit['Garage Cars'] = X_submit['Garage Cars'].fillna(0)\n",
    "X_submit['Total Bsmt SF'] = X_submit['Total Bsmt SF'].fillna(0)\n",
    "X_submit.fillna('NA', inplace=True)"
   ]
  },
  {
   "cell_type": "code",
   "execution_count": 55,
   "id": "d0a0ae98-36ff-49b8-b8e4-682e216a67b0",
   "metadata": {},
   "outputs": [
    {
     "name": "stderr",
     "output_type": "stream",
     "text": [
      "C:\\Users\\Daniel\\anaconda3\\lib\\site-packages\\sklearn\\preprocessing\\_encoders.py:170: UserWarning: Found unknown categories in columns [13, 14, 15, 19, 21, 26] during transform. These unknown categories will be encoded as all zeros\n",
      "  warnings.warn(\n"
     ]
    }
   ],
   "source": [
    "# final steps for submission\n",
    "preds = pipe.predict(X_submit)\n",
    "test['SalePrice'] = preds\n",
    "lr_submit = test[['Id', 'SalePrice']]\n",
    "lr_submit.set_index('Id', inplace=True)\n",
    "lr_submit.to_csv('../output/fifthattempt.csv')"
   ]
  },
  {
   "cell_type": "markdown",
   "id": "41e11e9f-c064-4841-a2d5-e9dd4a54d780",
   "metadata": {},
   "source": [
    "## Attempt #6\n",
    "Reduce variance with ridge"
   ]
  },
  {
   "cell_type": "code",
   "execution_count": 56,
   "id": "3214e295-4894-4ae2-bbbd-3dde4fc165ac",
   "metadata": {},
   "outputs": [],
   "source": [
    "# using previous X, y, and ColumnTransformer\n",
    "pipe = Pipeline([\n",
    "    ('ct', ct),\n",
    "    ('rdg', Ridge())\n",
    "])"
   ]
  },
  {
   "cell_type": "code",
   "execution_count": 57,
   "id": "b1e7e1ca-8b92-4bdb-8d3c-ca921ccb6160",
   "metadata": {},
   "outputs": [
    {
     "name": "stderr",
     "output_type": "stream",
     "text": [
      "C:\\Users\\Daniel\\anaconda3\\lib\\site-packages\\sklearn\\linear_model\\_ridge.py:157: LinAlgWarning: Ill-conditioned matrix (rcond=7.53528e-22): result may not be accurate.\n",
      "  return linalg.solve(A, Xy, sym_pos=True, overwrite_a=True).T\n"
     ]
    }
   ],
   "source": [
    "pipe.fit(X_train, y_train);"
   ]
  },
  {
   "cell_type": "code",
   "execution_count": 58,
   "id": "afcb08e1-0261-401b-ae28-6edbd49e1cec",
   "metadata": {},
   "outputs": [
    {
     "data": {
      "text/plain": [
       "0.9496843672417845"
      ]
     },
     "execution_count": 58,
     "metadata": {},
     "output_type": "execute_result"
    }
   ],
   "source": [
    "pipe.score(X_train, y_train)"
   ]
  },
  {
   "cell_type": "code",
   "execution_count": 59,
   "id": "8f453633-c319-46c8-b77e-b09a1fa976e5",
   "metadata": {},
   "outputs": [
    {
     "name": "stderr",
     "output_type": "stream",
     "text": [
      "C:\\Users\\Daniel\\anaconda3\\lib\\site-packages\\sklearn\\preprocessing\\_encoders.py:170: UserWarning: Found unknown categories in columns [19] during transform. These unknown categories will be encoded as all zeros\n",
      "  warnings.warn(\n"
     ]
    },
    {
     "data": {
      "text/plain": [
       "0.9039383862024879"
      ]
     },
     "execution_count": 59,
     "metadata": {},
     "output_type": "execute_result"
    }
   ],
   "source": [
    "pipe.score(X_test, y_test)"
   ]
  },
  {
   "cell_type": "markdown",
   "id": "a3171d41-9411-4241-92a3-079d92a45b1d",
   "metadata": {},
   "source": [
    "This does have lower variance"
   ]
  },
  {
   "cell_type": "code",
   "execution_count": 60,
   "id": "f4687e94-56f2-4fea-ab3b-39e472c2b7dc",
   "metadata": {},
   "outputs": [
    {
     "name": "stderr",
     "output_type": "stream",
     "text": [
      "C:\\Users\\Daniel\\anaconda3\\lib\\site-packages\\sklearn\\linear_model\\_ridge.py:157: LinAlgWarning: Ill-conditioned matrix (rcond=6.13425e-22): result may not be accurate.\n",
      "  return linalg.solve(A, Xy, sym_pos=True, overwrite_a=True).T\n",
      "C:\\Users\\Daniel\\anaconda3\\lib\\site-packages\\sklearn\\preprocessing\\_encoders.py:170: UserWarning: Found unknown categories in columns [13, 14, 15, 19, 21, 26] during transform. These unknown categories will be encoded as all zeros\n",
      "  warnings.warn(\n"
     ]
    }
   ],
   "source": [
    "#remake model with all test data and submit\n",
    "pipe.fit(X, y)\n",
    "\n",
    "preds = pipe.predict(X_submit)\n",
    "test['SalePrice'] = preds\n",
    "lr_submit = test[['Id', 'SalePrice']]\n",
    "lr_submit.set_index('Id', inplace=True)\n",
    "lr_submit.to_csv('../output/sixthattempt.csv')"
   ]
  }
 ],
 "metadata": {
  "kernelspec": {
   "display_name": "Python 3 (ipykernel)",
   "language": "python",
   "name": "python3"
  },
  "language_info": {
   "codemirror_mode": {
    "name": "ipython",
    "version": 3
   },
   "file_extension": ".py",
   "mimetype": "text/x-python",
   "name": "python",
   "nbconvert_exporter": "python",
   "pygments_lexer": "ipython3",
   "version": "3.9.12"
  }
 },
 "nbformat": 4,
 "nbformat_minor": 5
}
